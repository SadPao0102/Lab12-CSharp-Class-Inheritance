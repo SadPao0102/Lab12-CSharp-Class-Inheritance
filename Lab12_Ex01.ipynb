{
 "cells": [
  {
   "cell_type": "markdown",
   "metadata": {},
   "source": [
    "# Lab 12 Class Inheritance"
   ]
  },
  {
   "cell_type": "markdown",
   "metadata": {},
   "source": [
    "## Exercise 1 Class Inheritancd แบบธรรมดา"
   ]
  },
  {
   "cell_type": "markdown",
   "metadata": {},
   "source": [
    "ในการทดลองนี้ นักศึกษาจะได้ทำความเข้าใจการเขียน code ในภาษา C# ที่สอดคล้องกับแผนผังการสือทอดสมบัติ จาก class diagram\n",
    "\n",
    "เริ่มต้นจากพิจารณา mermaid class ต่อไปนี้ (Run โค้ดด้านล่างนี้เพื่อดู class diagram)"
   ]
  },
  {
   "cell_type": "code",
   "execution_count": 1,
   "metadata": {
    "dotnet_interactive": {
     "language": "mermaid"
    },
    "polyglot_notebook": {
     "kernelName": "mermaid"
    }
   },
   "outputs": [
    {
     "data": {
      "text/html": [
       "<div class=\"mermaidMarkdownContainer\" style=\"background-color:white\">\r\n",
       "<link rel=\"stylesheet\" href=\"https://cdnjs.cloudflare.com/ajax/libs/font-awesome/6.2.0/css/all.min.css\">\r\n",
       "<div id=\"b62adea1f4934877b237c5a233f92f7d\"></div>\r\n",
       "<script type=\"module\">\r\n",
       "\r\n",
       "            import mermaid from 'https://cdn.jsdelivr.net/npm/mermaid@10.6.1/dist/mermaid.esm.min.mjs';\r\n",
       "            let renderTarget = document.getElementById('b62adea1f4934877b237c5a233f92f7d');\r\n",
       "            try {\r\n",
       "                const {svg, bindFunctions} = await mermaid.mermaidAPI.render( \r\n",
       "                    'mermaid_b62adea1f4934877b237c5a233f92f7d', \r\n",
       "                    `classDiagram\n",
       "    class Person {\n",
       "        -name : string\n",
       "        +Name : string\n",
       "    }\n",
       "    class Student {\n",
       "    }\n",
       "    Person <|-- Student  `);\r\n",
       "                renderTarget.innerHTML = svg;\r\n",
       "                bindFunctions?.(renderTarget);\r\n",
       "            }\r\n",
       "            catch (error) {\r\n",
       "                console.log(error);\r\n",
       "            }\r\n",
       "</script>\r\n",
       "</div>\r\n"
      ]
     },
     "metadata": {},
     "output_type": "display_data"
    }
   ],
   "source": [
    "classDiagram\n",
    "    class Person {\n",
    "        -name : string\n",
    "        +Name : string\n",
    "    }\n",
    "    class Student {\n",
    "    }\n",
    "    Person <|-- Student  "
   ]
  },
  {
   "cell_type": "markdown",
   "metadata": {},
   "source": [
    "จาก code ด้านบน __classDiagram__ เป็น keyword ที่บอกจุดเริ่มต้นสำหรับการระบุว่าเป็นคลาสไดอะแกรมในภาษาของ Mermaid\n",
    "\n",
    "|ตำสั่ง| ความหมายหรือผลลัพธ์|\n",
    "|---------------------|----|\n",
    "|class Person { ... } |ใช้กำหนดคลาสชื่อ __Person__|\n",
    "|__-name : string__ | การประกาศตัวแปรสมาชิกส่วนตัวชื่อ name ประเภท string เครื่องหมาย - บอกว่าเป็นตัวแปรแบบ private ดังนั้น name จะเป็นตัวแปรประเภท field|\n",
    "|__+Name : string__ | การประกาศ property แบบ  ยีิสรแ โดยใช้ชื่อว่า Name ประเภท string เครื่องหมาย + บ่งชี้ว่าเป็น public ในที่นี้ไม่ได้แสดง getter และ setter ไว้ แสดงว่าเป็นได้ทั้งสองอย่าง ไม่มีข้อจำกัดในการใช้งานทั้งการเขียน (set) และอ่าน (get)\n",
    "|__class Student { ... }__  |เป็นการกำหนดคลาสชื่อ Student ซึ่งยังไม่มีสมาชิกใด ๆ  (คลาสเปล่า)\n",
    "|__Person <\\|-- Student__  |บรรทัดนี้คือส่วนสำคัญ ที่แสดงให้เห็นถึงความสัมพันธ์แบบสืบทอด ใช้สำหรับการบ่งชี้ว่า Student สืบทอด จาก Person  <br>     ลูกศร <\\|-- บ่งชี้ \"การสืบทอด\" หรือ \"Generalization\" ซึ่งหมายความว่าอ็อบเจ็กต์ Student ก็คือ Person ชนิดหนึ่ง และจะสามารถเข้าถึงสมาชิกที่เป็น public ทั้งหมดของคลาส Person ได้โดยอัตโนมัติ (ในกรณีนี้คือ property `Name`) <br> คลาส Student ยังสามารถเพิ่มสมาชิกเฉพาะของตัวเอง และขยายฟังก์ชันการทำงานของ Person ได้"
   ]
  },
  {
   "cell_type": "markdown",
   "metadata": {},
   "source": [
    "1.สร้าง console application project\n",
    "\n",
    "> ```cmd\n",
    "> dotnet new console --name Lab12_Ex01\n",
    "> ```\n",
    "\n"
   ]
  },
  {
   "cell_type": "markdown",
   "metadata": {},
   "source": [
    "2.เปลี่ยน code ให้เป็นดังต่อไปนี้\n",
    "\n",
    "```csharp\n",
    "Student student1 = new Student();\n",
    "student1.Name = \"Somchai\";\n",
    "System.Console.WriteLne($\"student1 name = {studnt1.Name}\");\n",
    "\n",
    "var student2 = new Student();\n",
    "studen2.Name = \"Sompong\";\n",
    "System.Console.WrteLine($\"student2 name = {stdent2.Name}\");\n",
    "\n",
    "class Person\n",
    "{\n",
    "    private string name = string.Empty;\n",
    "    public string Name\n",
    "    {\n",
    "        get { return name; }\n",
    "        set { name = value; }\n",
    "    }\n",
    "}\n",
    "\n",
    "class Student:Person\n",
    "{\n",
    "\n",
    "}\n",
    "```"
   ]
  },
  {
   "cell_type": "markdown",
   "metadata": {},
   "source": [
    "3.Build project โดยการใช้คำสั่ง\n",
    "\n",
    "> ```cmd\n",
    ">   dotnet build  Lab12_Ex01\n",
    "> ```\n",
    "\n",
    "ถ้ามีที่ผิดพลาดในโปรแกรม ให้แก้ไขให้ถูกต้อง\n"
   ]
  },
  {
   "cell_type": "markdown",
   "metadata": {},
   "source": [
    "\n",
    "4.บันทึกผลที่ได้จากการรันคำสั่งในข้อ 3\n"
   ]
  },
  {
   "attachments": {
    "image.png": {
     "image/png": "[encoded data removed]"
    }
   },
   "cell_type": "markdown",
   "metadata": {},
   "source": [
    "![image.png](attachment:image.png)"
   ]
  },
  {
   "cell_type": "markdown",
   "metadata": {},
   "source": [
    "\n",
    "5.Run project โดยการใช้คำสั่ง\n",
    "\n",
    "> ```cmd\n",
    ">   dotnet run --project Lab12_Ex01\n",
    "> ```\n"
   ]
  },
  {
   "cell_type": "markdown",
   "metadata": {},
   "source": [
    "\n",
    "6.บันทึกผลที่ได้จากการรันคำสั่งในข้อ 5\n"
   ]
  },
  {
   "attachments": {
    "image.png": {
     "image/png": "[encoded data removed]"
    }
   },
   "cell_type": "markdown",
   "metadata": {},
   "source": [
    "![image.png](attachment:image.png)"
   ]
  },
  {
   "cell_type": "markdown",
   "metadata": {},
   "source": [
    "\n",
    "7.อธิบายสิ่งที่พบในการทดลอง"
   ]
  },
  {
   "cell_type": "markdown",
   "metadata": {},
   "source": [
    "ข้อผิดพลาดจากการพิมพ์ผิด (Typo) ทำให้โปรแกรมคอมไพล์ไม่ผ่าน\n",
    "\n",
    "System.Console.WriteLne → ต้องเป็น System.Console.WriteLine\n",
    "\n",
    "System.Console.WrteLine → ต้องเป็น System.Console.WriteLine\n",
    "\n",
    "studnt1.Name → ต้องเป็น student1.Name\n",
    "\n",
    "studen2.Name → ต้องเป็น student2.Name\n",
    "\n",
    "stdent2.Name → ต้องเป็น student2.Name\n",
    "\n",
    "การสืบทอด (Inheritance) ทำให้ Student สามารถใช้งาน property Name จาก Person ได้\n",
    "\n",
    "คลาส Student ไม่ได้ประกาศ property Name เอง แต่สามารถใช้งานได้เพราะมันสืบทอดจาก Person\n",
    "\n",
    "การใช้ private string name ใน Person และสร้าง property Name ช่วยให้ควบคุมการเข้าถึงข้อมูลได้ดีขึ้น\n",
    "\n",
    "การใช้ var กับ object\n",
    "\n",
    "var student2 = new Student(); ใช้งานได้ปกติ เพราะตัวแปร var สามารถระบุชนิดข้อมูลอัตโนมัติจากค่าที่กำหนดให้\n",
    "\n",
    "ค่าของ property Name ถูกจัดเก็บและเข้าถึงผ่าน getter/setter\n",
    "\n",
    "ค่าของ Name จะถูกเก็บไว้ในตัวแปร name ที่อยู่ในคลาส Person\n",
    "\n",
    "สามารถกำหนดค่าและเรียกใช้งานผ่าน student1.Name และ student2.Name ได้ตามปกติ"
   ]
  }
 ],
 "metadata": {
  "kernelspec": {
   "display_name": ".NET (C#)",
   "language": "C#",
   "name": ".net-csharp"
  },
  "polyglot_notebook": {
   "kernelInfo": {
    "defaultKernelName": "csharp",
    "items": [
     {
      "aliases": [],
      "languageName": "csharp",
      "name": "csharp"
     }
    ]
   }
  }
 },
 "nbformat": 4,
 "nbformat_minor": 2
}
